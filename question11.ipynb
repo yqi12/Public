{
 "cells": [
  {
   "cell_type": "markdown",
   "id": "9d57e8cd-bc0e-4351-9cd6-354c525e0f11",
   "metadata": {},
   "source": [
    "# YUXIN QI\n",
    "# Notebook for assignment 7"
   ]
  },
  {
   "cell_type": "code",
   "execution_count": 1,
   "id": "b7f77473-4b08-49ff-9ba2-df52c81b9ed2",
   "metadata": {},
   "outputs": [],
   "source": [
    "from statistics import mean"
   ]
  },
  {
   "cell_type": "code",
   "execution_count": 2,
   "id": "8054ccab-9a24-4bfc-a330-5a3867b5236e",
   "metadata": {},
   "outputs": [],
   "source": [
    "compute_mean=mean"
   ]
  },
  {
   "cell_type": "code",
   "execution_count": 3,
   "id": "85d47ea5-d92b-47ab-8c00-12f5258a617a",
   "metadata": {},
   "outputs": [
    {
     "data": {
      "text/plain": [
       "5"
      ]
     },
     "execution_count": 3,
     "metadata": {},
     "output_type": "execute_result"
    }
   ],
   "source": [
    "compute_mean([2, 4, 6, 8])"
   ]
  },
  {
   "cell_type": "markdown",
   "id": "78e1f048-7eed-4e16-8128-dc6c7ee2e8f3",
   "metadata": {},
   "source": [
    "$$\\overline{x}=\\frac{x_1+x_2+\\cdots+x_n}n=\\frac{1}{n}\\bigg(\\sum_{i=1}^{n}x_i \\bigg )$$"
   ]
  },
  {
   "cell_type": "code",
   "execution_count": null,
   "id": "469975ca-5819-4535-abb4-fd02e15fc95d",
   "metadata": {},
   "outputs": [],
   "source": []
  }
 ],
 "metadata": {
  "kernelspec": {
   "display_name": "Python 3 (ipykernel)",
   "language": "python",
   "name": "python3"
  },
  "language_info": {
   "codemirror_mode": {
    "name": "ipython",
    "version": 3
   },
   "file_extension": ".py",
   "mimetype": "text/x-python",
   "name": "python",
   "nbconvert_exporter": "python",
   "pygments_lexer": "ipython3",
   "version": "3.12.3"
  }
 },
 "nbformat": 4,
 "nbformat_minor": 5
}
